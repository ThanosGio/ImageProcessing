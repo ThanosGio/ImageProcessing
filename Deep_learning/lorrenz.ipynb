{
 "cells": [
  {
   "cell_type": "code",
   "execution_count": 1,
   "id": "17895d15-683c-4abc-807c-3d1b862775ad",
   "metadata": {},
   "outputs": [
    {
     "ename": "ModuleNotFoundError",
     "evalue": "No module named 'keras.utils.generic_utils'",
     "output_type": "error",
     "traceback": [
      "\u001b[1;31m---------------------------------------------------------------------------\u001b[0m",
      "\u001b[1;31mModuleNotFoundError\u001b[0m                       Traceback (most recent call last)",
      "Cell \u001b[1;32mIn[1], line 11\u001b[0m\n\u001b[0;32m      9\u001b[0m \u001b[38;5;28;01mfrom\u001b[39;00m \u001b[38;5;21;01mkeras\u001b[39;00m \u001b[38;5;28;01mimport\u001b[39;00m optimizers\n\u001b[0;32m     10\u001b[0m \u001b[38;5;28;01mfrom\u001b[39;00m \u001b[38;5;21;01mkeras\u001b[39;00m\u001b[38;5;21;01m.\u001b[39;00m\u001b[38;5;21;01mlayers\u001b[39;00m \u001b[38;5;28;01mimport\u001b[39;00m Activation\n\u001b[1;32m---> 11\u001b[0m \u001b[38;5;28;01mfrom\u001b[39;00m \u001b[38;5;21;01mkeras\u001b[39;00m\u001b[38;5;21;01m.\u001b[39;00m\u001b[38;5;21;01mutils\u001b[39;00m\u001b[38;5;21;01m.\u001b[39;00m\u001b[38;5;21;01mgeneric_utils\u001b[39;00m \u001b[38;5;28;01mimport\u001b[39;00m get_custom_objects\n\u001b[0;32m     12\u001b[0m \u001b[38;5;28;01mfrom\u001b[39;00m \u001b[38;5;21;01mkeras\u001b[39;00m \u001b[38;5;28;01mimport\u001b[39;00m backend \u001b[38;5;28;01mas\u001b[39;00m K\n\u001b[0;32m     15\u001b[0m rcParams\u001b[38;5;241m.\u001b[39mupdate({\u001b[38;5;124m'\u001b[39m\u001b[38;5;124mfont.size\u001b[39m\u001b[38;5;124m'\u001b[39m: \u001b[38;5;241m18\u001b[39m})\n",
      "\u001b[1;31mModuleNotFoundError\u001b[0m: No module named 'keras.utils.generic_utils'"
     ]
    }
   ],
   "source": [
    "import numpy as np\n",
    "import matplotlib.pyplot as plt\n",
    "from matplotlib import rcParams\n",
    "from scipy import integrate\n",
    "from mpl_toolkits.mplot3d import Axes3D\n",
    "\n",
    "from keras.models import Sequential\n",
    "from keras.layers import Dense, Conv2D, Flatten, MaxPool2D\n",
    "from keras import optimizers\n",
    "from keras.layers import Activation\n",
    "from keras.utils.generic_utils import get_custom_objects\n",
    "from keras import backend as K\n",
    "\n",
    "\n",
    "rcParams.update({'font.size': 18})\n",
    "plt.rcParams['figure.figsize'] = [12, 12]"
   ]
  },
  {
   "cell_type": "code",
   "execution_count": null,
   "id": "bc7424e8-62b6-4edb-bca6-bcbd987ef2c6",
   "metadata": {},
   "outputs": [],
   "source": [
    "## Simulate the Lorenz System\n",
    "\n",
    "dt = 0.01\n",
    "T = 8\n",
    "t = np.arange(0,T+dt,dt)\n",
    "beta = 8/3\n",
    "sigma = 10\n",
    "rho = 28\n"
   ]
  },
  {
   "cell_type": "code",
   "execution_count": 2,
   "id": "db3bbb5f-a19c-4b03-9cf9-a5c4289d671d",
   "metadata": {},
   "outputs": [
    {
     "ename": "NameError",
     "evalue": "name 't' is not defined",
     "output_type": "error",
     "traceback": [
      "\u001b[1;31m---------------------------------------------------------------------------\u001b[0m",
      "\u001b[1;31mNameError\u001b[0m                                 Traceback (most recent call last)",
      "Cell \u001b[1;32mIn[2], line 1\u001b[0m\n\u001b[1;32m----> 1\u001b[0m nn_input \u001b[38;5;241m=\u001b[39m np\u001b[38;5;241m.\u001b[39mzeros((\u001b[38;5;241m100\u001b[39m\u001b[38;5;241m*\u001b[39m(\u001b[38;5;28mlen\u001b[39m(t)\u001b[38;5;241m-\u001b[39m\u001b[38;5;241m1\u001b[39m),\u001b[38;5;241m3\u001b[39m))\n\u001b[0;32m      2\u001b[0m nn_output \u001b[38;5;241m=\u001b[39m np\u001b[38;5;241m.\u001b[39mzeros_like(nn_input)\n\u001b[0;32m      4\u001b[0m fig,ax \u001b[38;5;241m=\u001b[39m plt\u001b[38;5;241m.\u001b[39msubplots(\u001b[38;5;241m1\u001b[39m,\u001b[38;5;241m1\u001b[39m,subplot_kw\u001b[38;5;241m=\u001b[39m{\u001b[38;5;124m'\u001b[39m\u001b[38;5;124mprojection\u001b[39m\u001b[38;5;124m'\u001b[39m: \u001b[38;5;124m'\u001b[39m\u001b[38;5;124m3d\u001b[39m\u001b[38;5;124m'\u001b[39m})\n",
      "\u001b[1;31mNameError\u001b[0m: name 't' is not defined"
     ]
    }
   ],
   "source": [
    "nn_input = np.zeros((100*(len(t)-1),3))\n",
    "nn_output = np.zeros_like(nn_input)\n",
    "\n",
    "fig,ax = plt.subplots(1,1,subplot_kw={'projection': '3d'})\n",
    "\n",
    "\n",
    "def lorenz_deriv(x_y_z, t0, sigma=sigma, beta=beta, rho=rho):\n",
    "    x, y, z = x_y_z\n",
    "    return [sigma * (y - x), x * (rho - z) - y, x * y - beta * z]\n",
    "\n",
    "np.random.seed(123)\n",
    "x0 = -15 + 30 * np.random.random((100, 3))\n",
    "\n",
    "x_t = np.asarray([integrate.odeint(lorenz_deriv, x0_j, t)\n",
    "                  for x0_j in x0])\n",
    "\n",
    "for j in range(100):\n",
    "    nn_input[j*(len(t)-1):(j+1)*(len(t)-1),:] = x_t[j,:-1,:]\n",
    "    nn_output[j*(len(t)-1):(j+1)*(len(t)-1),:] = x_t[j,1:,:]\n",
    "    x, y, z = x_t[j,:,:].T\n",
    "    ax.plot(x, y, z,linewidth=1)\n",
    "    ax.scatter(x0[j,0],x0[j,1],x0[j,2],color='r')\n",
    "             \n",
    "ax.view_init(18, -113)\n",
    "plt.show()"
   ]
  },
  {
   "cell_type": "code",
   "execution_count": 3,
   "id": "ae6bc51a-018d-4116-bf97-96f7f54b4a4e",
   "metadata": {},
   "outputs": [
    {
     "ename": "NameError",
     "evalue": "name 'nn_input' is not defined",
     "output_type": "error",
     "traceback": [
      "\u001b[1;31m---------------------------------------------------------------------------\u001b[0m",
      "\u001b[1;31mNameError\u001b[0m                                 Traceback (most recent call last)",
      "Cell \u001b[1;32mIn[3], line 27\u001b[0m\n\u001b[0;32m     25\u001b[0m sgd_optimizer \u001b[38;5;241m=\u001b[39m optimizers\u001b[38;5;241m.\u001b[39mSGD(momentum\u001b[38;5;241m=\u001b[39m\u001b[38;5;241m0.9\u001b[39m)\n\u001b[0;32m     26\u001b[0m model\u001b[38;5;241m.\u001b[39mcompile(optimizer\u001b[38;5;241m=\u001b[39msgd_optimizer, loss\u001b[38;5;241m=\u001b[39m\u001b[38;5;124m'\u001b[39m\u001b[38;5;124mcategorical_crossentropy\u001b[39m\u001b[38;5;124m'\u001b[39m)\n\u001b[1;32m---> 27\u001b[0m model\u001b[38;5;241m.\u001b[39mfit(nn_input, nn_output, epochs\u001b[38;5;241m=\u001b[39m\u001b[38;5;241m30\u001b[39m)\n",
      "\u001b[1;31mNameError\u001b[0m: name 'nn_input' is not defined"
     ]
    }
   ],
   "source": [
    "## Neural Net\n",
    "\n",
    "# Define activation functions\n",
    "def logsig(x):\n",
    "    return K.variable(np.divide(1,(1+np.exp(-K.eval(x)))))\n",
    "\n",
    "def radbas(x):\n",
    "    return K.variable(np.exp(-np.power(K.eval(x),2)))\n",
    "\n",
    "def purelin(x):\n",
    "    return x\n",
    "\n",
    "\n",
    "#create model\n",
    "model = Sequential()\n",
    "\n",
    "#add model layers\n",
    "model.add(Dense(10, activation=logsig))\n",
    "model.add(Dense(10, activation=radbas))\n",
    "model.add(Dense(10, activation=purelin))\n",
    "\n",
    "\n",
    "\n",
    "\n",
    "sgd_optimizer = optimizers.SGD(momentum=0.9)\n",
    "model.compile(optimizer=sgd_optimizer, loss='categorical_crossentropy')\n",
    "model.fit(nn_input, nn_output, epochs=30)"
   ]
  },
  {
   "cell_type": "code",
   "execution_count": null,
   "id": "ab57fcec-256c-4367-b9d3-4a9983fe3828",
   "metadata": {},
   "outputs": [],
   "source": []
  }
 ],
 "metadata": {
  "kernelspec": {
   "display_name": "Python 3 (ipykernel)",
   "language": "python",
   "name": "python3"
  },
  "language_info": {
   "codemirror_mode": {
    "name": "ipython",
    "version": 3
   },
   "file_extension": ".py",
   "mimetype": "text/x-python",
   "name": "python",
   "nbconvert_exporter": "python",
   "pygments_lexer": "ipython3",
   "version": "3.12.2"
  }
 },
 "nbformat": 4,
 "nbformat_minor": 5
}
