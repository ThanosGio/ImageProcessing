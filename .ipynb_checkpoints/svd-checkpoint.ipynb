{
 "cells": [
  {
   "cell_type": "code",
   "execution_count": 5,
   "id": "58b1bd45-c6de-42c3-8d3d-4b9d54cbedda",
   "metadata": {},
   "outputs": [],
   "source": [
    ">>> import numpy as np\n",
    ">>> X = np.random.rand(5, 3) # create random data matrix\n",
    ">>> U, S, V = np.linalg.svd(X,full_matrices=True) # full SVD\n",
    ">>> Uhat, Shat, Vhat = np.linalg.svd(X, full_matrices=False)\n",
    "#economy SVD\n"
   ]
  },
  {
   "cell_type": "code",
   "execution_count": null,
   "id": "1ca97269-fca4-4a7c-8165-0b5211f7508a",
   "metadata": {},
   "outputs": [],
   "source": []
  }
 ],
 "metadata": {
  "kernelspec": {
   "display_name": "Python 3 (ipykernel)",
   "language": "python",
   "name": "python3"
  },
  "language_info": {
   "codemirror_mode": {
    "name": "ipython",
    "version": 3
   },
   "file_extension": ".py",
   "mimetype": "text/x-python",
   "name": "python",
   "nbconvert_exporter": "python",
   "pygments_lexer": "ipython3",
   "version": "3.12.2"
  }
 },
 "nbformat": 4,
 "nbformat_minor": 5
}
