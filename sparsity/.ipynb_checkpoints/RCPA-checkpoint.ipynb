{
 "cells": [
  {
   "cell_type": "code",
   "execution_count": 2,
   "id": "5be96abf-968d-41fe-adfd-a1946cc7f999",
   "metadata": {},
   "outputs": [],
   "source": [
    "import numpy as np\n",
    "import matplotlib.pyplot as plt\n",
    "import os\n",
    "import scipy.io\n",
    "\n",
    "plt.rcParams['figure.figsize'] = [7, 7]\n",
    "plt.rcParams.update({'font.size': 18})\n",
    "\n",
    "# Define the absolute path\n",
    "absolute_path = r\"C:\\Users\\thana\\OneDrive\\Desktop\\Imageprocessing\\DATA\"\n",
    "\n",
    "mat = scipy.io.loadmat(os.path.join(absolute_path,'allFaces.mat'))\n",
    "faces = mat['faces']\n",
    "nfaces = mat['nfaces'].reshape(-1)"
   ]
  },
  {
   "cell_type": "code",
   "execution_count": 3,
   "id": "e2a01021-9e92-416c-92b9-3944e9587e6d",
   "metadata": {},
   "outputs": [],
   "source": [
    "## Function Definitions\n",
    "\n",
    "def shrink(X,tau):\n",
    "    Y = np.abs(X)-tau\n",
    "    return np.sign(X) * np.maximum(Y,np.zeros_like(Y))\n",
    "def SVT(X,tau):\n",
    "    U,S,VT = np.linalg.svd(X,full_matrices=0)\n",
    "    out = U @ np.diag(shrink(S,tau)) @ VT\n",
    "    return out\n",
    "def RPCA(X):\n",
    "    n1,n2 = X.shape\n",
    "    mu = n1*n2/(4*np.sum(np.abs(X.reshape(-1))))\n",
    "    lambd = 1/np.sqrt(np.maximum(n1,n2))\n",
    "    thresh = 10**(-7) * np.linalg.norm(X)\n",
    "    \n",
    "    S = np.zeros_like(X)\n",
    "    Y = np.zeros_like(X)\n",
    "    L = np.zeros_like(X)\n",
    "    count = 0\n",
    "    while (np.linalg.norm(X-L-S) > thresh) and (count < 1000):\n",
    "        L = SVT(X-S+(1/mu)*Y,1/mu)\n",
    "        S = shrink(X-L+(1/mu)*Y,lambd/mu)\n",
    "        Y = Y + mu*(X-L-S)\n",
    "        count += 1\n",
    "    return L,S"
   ]
  },
  {
   "cell_type": "code",
   "execution_count": null,
   "id": "7c29c6d6-19f1-49e1-a2d2-e2ac490e3e9c",
   "metadata": {},
   "outputs": [],
   "source": [
    "X = faces[:,:nfaces[0]]\n",
    "L,S = RPCA(X)"
   ]
  },
  {
   "cell_type": "code",
   "execution_count": null,
   "id": "cc94f72c-4ffb-4a88-88dc-747473b0d6fb",
   "metadata": {},
   "outputs": [],
   "source": [
    "inds = (3,4,14,15,17,18,19,20,21,32,43)\n",
    "\n",
    "for k in inds:\n",
    "    fig,axs = plt.subplots(2,2)\n",
    "    axs = axs.reshape(-1)\n",
    "    axs[0].imshow(np.reshape(X[:,k-1],(168,192)).T,cmap='gray')\n",
    "    axs[0].set_title('X')\n",
    "    axs[1].imshow(np.reshape(L[:,k-1],(168,192)).T,cmap='gray')\n",
    "    axs[1].set_title('L')\n",
    "    axs[2].imshow(np.reshape(S[:,k-1],(168,192)).T,cmap='gray')\n",
    "    axs[2].set_title('S')\n",
    "    for ax in axs:\n",
    "        ax.axis('off')"
   ]
  },
  {
   "cell_type": "code",
   "execution_count": null,
   "id": "a8b72b59-6611-4ad6-be7e-f2e7b6417399",
   "metadata": {},
   "outputs": [],
   "source": []
  }
 ],
 "metadata": {
  "kernelspec": {
   "display_name": "Python 3 (ipykernel)",
   "language": "python",
   "name": "python3"
  },
  "language_info": {
   "codemirror_mode": {
    "name": "ipython",
    "version": 3
   },
   "file_extension": ".py",
   "mimetype": "text/x-python",
   "name": "python",
   "nbconvert_exporter": "python",
   "pygments_lexer": "ipython3",
   "version": "3.12.2"
  }
 },
 "nbformat": 4,
 "nbformat_minor": 5
}
